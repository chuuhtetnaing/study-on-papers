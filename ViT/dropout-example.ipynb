{
 "cells": [
  {
   "cell_type": "code",
   "execution_count": 28,
   "id": "9028f430-e75d-4884-9063-0c44766b0afd",
   "metadata": {
    "execution": {
     "iopub.execute_input": "2023-08-13T07:43:31.522824Z",
     "iopub.status.busy": "2023-08-13T07:43:31.522108Z",
     "iopub.status.idle": "2023-08-13T07:43:31.525337Z",
     "shell.execute_reply": "2023-08-13T07:43:31.524853Z",
     "shell.execute_reply.started": "2023-08-13T07:43:31.522796Z"
    }
   },
   "outputs": [],
   "source": [
    "import torch"
   ]
  },
  {
   "cell_type": "markdown",
   "id": "77d3e70c-7a34-4984-bba3-a379ad2fd958",
   "metadata": {},
   "source": [
    "# Declare Dropout layer with 0.5 Probability"
   ]
  },
  {
   "cell_type": "code",
   "execution_count": 29,
   "id": "8a477789-4b6e-492a-adef-1e8e872967dd",
   "metadata": {
    "execution": {
     "iopub.execute_input": "2023-08-13T07:43:32.146690Z",
     "iopub.status.busy": "2023-08-13T07:43:32.146034Z",
     "iopub.status.idle": "2023-08-13T07:43:32.149662Z",
     "shell.execute_reply": "2023-08-13T07:43:32.149098Z",
     "shell.execute_reply.started": "2023-08-13T07:43:32.146661Z"
    }
   },
   "outputs": [],
   "source": [
    "p = 0.5\n",
    "module = torch.nn.Dropout(p)"
   ]
  },
  {
   "cell_type": "markdown",
   "id": "c46c16ec-457c-4aed-8560-a7d66439303f",
   "metadata": {},
   "source": [
    "# It will have Training Mode as Default"
   ]
  },
  {
   "cell_type": "code",
   "execution_count": 30,
   "id": "4ad60eeb-b824-412b-a508-4768186c74ce",
   "metadata": {
    "execution": {
     "iopub.execute_input": "2023-08-13T07:43:32.544704Z",
     "iopub.status.busy": "2023-08-13T07:43:32.543867Z",
     "iopub.status.idle": "2023-08-13T07:43:32.549151Z",
     "shell.execute_reply": "2023-08-13T07:43:32.548412Z",
     "shell.execute_reply.started": "2023-08-13T07:43:32.544675Z"
    }
   },
   "outputs": [
    {
     "data": {
      "text/plain": [
       "True"
      ]
     },
     "execution_count": 30,
     "metadata": {},
     "output_type": "execute_result"
    }
   ],
   "source": [
    "module.training"
   ]
  },
  {
   "cell_type": "markdown",
   "id": "f1ffa134-e3c0-4220-8f92-ae15e6f009f3",
   "metadata": {},
   "source": [
    "# It shutdowns 50% randomly and it'll multipy 1/1-p with other elements to make up for this removal"
   ]
  },
  {
   "cell_type": "code",
   "execution_count": 31,
   "id": "ac3b1779-724a-4a33-b959-7984e48a5c25",
   "metadata": {
    "execution": {
     "iopub.execute_input": "2023-08-13T07:43:33.426528Z",
     "iopub.status.busy": "2023-08-13T07:43:33.425807Z",
     "iopub.status.idle": "2023-08-13T07:43:33.430792Z",
     "shell.execute_reply": "2023-08-13T07:43:33.430282Z",
     "shell.execute_reply.started": "2023-08-13T07:43:33.426500Z"
    }
   },
   "outputs": [
    {
     "data": {
      "text/plain": [
       "tensor([[2., 0., 0., 0., 2., 0., 2., 2., 0., 0.]])"
      ]
     },
     "execution_count": 31,
     "metadata": {},
     "output_type": "execute_result"
    }
   ],
   "source": [
    "inp = torch.ones(1, 10)\n",
    "module(inp)"
   ]
  },
  {
   "cell_type": "code",
   "execution_count": 32,
   "id": "70a27821-ebaf-40a7-a60e-936075cd127d",
   "metadata": {
    "execution": {
     "iopub.execute_input": "2023-08-13T07:43:33.510720Z",
     "iopub.status.busy": "2023-08-13T07:43:33.510138Z",
     "iopub.status.idle": "2023-08-13T07:43:33.515184Z",
     "shell.execute_reply": "2023-08-13T07:43:33.514457Z",
     "shell.execute_reply.started": "2023-08-13T07:43:33.510696Z"
    }
   },
   "outputs": [
    {
     "data": {
      "text/plain": [
       "tensor([[2., 0., 0., 0., 2., 2., 0., 0., 2., 2.]])"
      ]
     },
     "execution_count": 32,
     "metadata": {},
     "output_type": "execute_result"
    }
   ],
   "source": [
    "module(inp)"
   ]
  },
  {
   "cell_type": "code",
   "execution_count": 33,
   "id": "c39e1d64-642d-47fa-9faf-1e992cb20fed",
   "metadata": {
    "execution": {
     "iopub.execute_input": "2023-08-13T07:43:35.264176Z",
     "iopub.status.busy": "2023-08-13T07:43:35.263388Z",
     "iopub.status.idle": "2023-08-13T07:43:35.268654Z",
     "shell.execute_reply": "2023-08-13T07:43:35.267893Z",
     "shell.execute_reply.started": "2023-08-13T07:43:35.264148Z"
    }
   },
   "outputs": [
    {
     "data": {
      "text/plain": [
       "2.0"
      ]
     },
     "execution_count": 33,
     "metadata": {},
     "output_type": "execute_result"
    }
   ],
   "source": [
    "1/(1-p)"
   ]
  },
  {
   "cell_type": "markdown",
   "id": "7bd4f959-7ef6-4d9d-8c8c-2d0e0fb0182d",
   "metadata": {},
   "source": [
    "# Let's set it into Eval Mode"
   ]
  },
  {
   "cell_type": "code",
   "execution_count": 34,
   "id": "b1be04b8-63f4-4339-9239-daba412513a7",
   "metadata": {
    "execution": {
     "iopub.execute_input": "2023-08-13T07:43:36.200624Z",
     "iopub.status.busy": "2023-08-13T07:43:36.199821Z",
     "iopub.status.idle": "2023-08-13T07:43:36.204756Z",
     "shell.execute_reply": "2023-08-13T07:43:36.204094Z",
     "shell.execute_reply.started": "2023-08-13T07:43:36.200596Z"
    }
   },
   "outputs": [
    {
     "data": {
      "text/plain": [
       "Dropout(p=0.5, inplace=False)"
      ]
     },
     "execution_count": 34,
     "metadata": {},
     "output_type": "execute_result"
    }
   ],
   "source": [
    "module.eval()"
   ]
  },
  {
   "cell_type": "code",
   "execution_count": 35,
   "id": "0d987ca2-7046-47ac-bbb8-9d47f223484e",
   "metadata": {
    "execution": {
     "iopub.execute_input": "2023-08-13T07:43:37.222696Z",
     "iopub.status.busy": "2023-08-13T07:43:37.222041Z",
     "iopub.status.idle": "2023-08-13T07:43:37.225933Z",
     "shell.execute_reply": "2023-08-13T07:43:37.225498Z",
     "shell.execute_reply.started": "2023-08-13T07:43:37.222671Z"
    }
   },
   "outputs": [
    {
     "data": {
      "text/plain": [
       "False"
      ]
     },
     "execution_count": 35,
     "metadata": {},
     "output_type": "execute_result"
    }
   ],
   "source": [
    "module.training"
   ]
  },
  {
   "cell_type": "code",
   "execution_count": 36,
   "id": "65481305-bffe-4837-a6fb-4a24bd1288de",
   "metadata": {
    "execution": {
     "iopub.execute_input": "2023-08-13T07:43:37.902131Z",
     "iopub.status.busy": "2023-08-13T07:43:37.901467Z",
     "iopub.status.idle": "2023-08-13T07:43:37.906328Z",
     "shell.execute_reply": "2023-08-13T07:43:37.905861Z",
     "shell.execute_reply.started": "2023-08-13T07:43:37.902105Z"
    }
   },
   "outputs": [
    {
     "data": {
      "text/plain": [
       "tensor([[1., 1., 1., 1., 1., 1., 1., 1., 1., 1.]])"
      ]
     },
     "execution_count": 36,
     "metadata": {},
     "output_type": "execute_result"
    }
   ],
   "source": [
    "module(inp)"
   ]
  },
  {
   "cell_type": "code",
   "execution_count": 37,
   "id": "d8f52a3f-9eae-49a9-8d37-3acf9090c407",
   "metadata": {
    "execution": {
     "iopub.execute_input": "2023-08-13T07:43:38.606831Z",
     "iopub.status.busy": "2023-08-13T07:43:38.606089Z",
     "iopub.status.idle": "2023-08-13T07:43:38.612761Z",
     "shell.execute_reply": "2023-08-13T07:43:38.612093Z",
     "shell.execute_reply.started": "2023-08-13T07:43:38.606794Z"
    }
   },
   "outputs": [
    {
     "data": {
      "text/plain": [
       "tensor([[1., 1., 1., 1., 1., 1., 1., 1., 1., 1.]])"
      ]
     },
     "execution_count": 37,
     "metadata": {},
     "output_type": "execute_result"
    }
   ],
   "source": [
    "module(inp)"
   ]
  },
  {
   "cell_type": "code",
   "execution_count": null,
   "id": "afd42bb1-6c3a-4801-a778-fc61da4e993f",
   "metadata": {},
   "outputs": [],
   "source": []
  }
 ],
 "metadata": {
  "kernelspec": {
   "display_name": "Python 3 (ipykernel)",
   "language": "python",
   "name": "python3"
  },
  "language_info": {
   "codemirror_mode": {
    "name": "ipython",
    "version": 3
   },
   "file_extension": ".py",
   "mimetype": "text/x-python",
   "name": "python",
   "nbconvert_exporter": "python",
   "pygments_lexer": "ipython3",
   "version": "3.9.16"
  }
 },
 "nbformat": 4,
 "nbformat_minor": 5
}
