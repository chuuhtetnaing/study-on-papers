{
 "cells": [
  {
   "cell_type": "code",
   "execution_count": 88,
   "id": "initial_id",
   "metadata": {
    "ExecuteTime": {
     "end_time": "2023-08-13T10:40:13.289520Z",
     "start_time": "2023-08-13T10:40:13.288099Z"
    },
    "collapsed": true
   },
   "outputs": [],
   "source": [
    "import torch\n",
    "from torch import nn\n",
    "import math"
   ]
  },
  {
   "cell_type": "markdown",
   "id": "2d2c6a31ea75fc71",
   "metadata": {
    "collapsed": false
   },
   "source": [
    "# Input Tensor"
   ]
  },
  {
   "cell_type": "code",
   "execution_count": 89,
   "id": "961fe54f4b7cfd36",
   "metadata": {
    "ExecuteTime": {
     "end_time": "2023-08-13T10:40:13.909349Z",
     "start_time": "2023-08-13T10:40:13.770086Z"
    },
    "collapsed": false
   },
   "outputs": [
    {
     "name": "stdout",
     "output_type": "stream",
     "text": [
      "n_samples : 3\n",
      "n_features: 2\n"
     ]
    }
   ],
   "source": [
    "inp = torch.tensor([[0, 4], [-1, 7], [3, 5]], dtype=torch.float)\n",
    "n_samples, n_features = inp.shape\n",
    "\n",
    "print(\"n_samples :\", n_samples)\n",
    "print(\"n_features:\", n_features)"
   ]
  },
  {
   "cell_type": "markdown",
   "id": "643ba1dedf57e60e",
   "metadata": {
    "collapsed": false
   },
   "source": [
    "# Get Normalized Values with Layer Norm"
   ]
  },
  {
   "cell_type": "code",
   "execution_count": 90,
   "id": "cb4f88bdb6cba2e2",
   "metadata": {
    "ExecuteTime": {
     "end_time": "2023-08-13T10:40:14.503801Z",
     "start_time": "2023-08-13T10:40:14.498462Z"
    },
    "collapsed": false
   },
   "outputs": [],
   "source": [
    "module = nn.LayerNorm(n_features, elementwise_affine=False)"
   ]
  },
  {
   "cell_type": "code",
   "execution_count": 91,
   "id": "decceb28a723ef26",
   "metadata": {
    "ExecuteTime": {
     "end_time": "2023-08-13T10:40:14.906188Z",
     "start_time": "2023-08-13T10:40:14.904957Z"
    },
    "collapsed": false
   },
   "outputs": [
    {
     "data": {
      "text/plain": [
       "tensor([[-1.0000,  1.0000],\n",
       "        [-1.0000,  1.0000],\n",
       "        [-1.0000,  1.0000]])"
      ]
     },
     "execution_count": 91,
     "metadata": {},
     "output_type": "execute_result"
    }
   ],
   "source": [
    "module(inp)"
   ]
  },
  {
   "cell_type": "code",
   "execution_count": 92,
   "id": "eb8b34715d80a663",
   "metadata": {
    "ExecuteTime": {
     "end_time": "2023-08-13T10:40:15.940724Z",
     "start_time": "2023-08-13T10:40:15.932827Z"
    },
    "collapsed": false
   },
   "outputs": [
    {
     "data": {
      "text/plain": [
       "(tensor([0., 0., 0.]), tensor([1.0000, 1.0000, 1.0000]))"
      ]
     },
     "execution_count": 92,
     "metadata": {},
     "output_type": "execute_result"
    }
   ],
   "source": [
    "module(inp).mean(-1), module(inp).std(-1, correction=0)"
   ]
  },
  {
   "cell_type": "markdown",
   "id": "ec2d80d8cd3a39bf",
   "metadata": {
    "collapsed": false
   },
   "source": [
    "# Calculate Manually"
   ]
  },
  {
   "cell_type": "code",
   "execution_count": 93,
   "id": "1ee0b7ce90556ce5",
   "metadata": {
    "ExecuteTime": {
     "end_time": "2023-08-13T10:40:19.002468Z",
     "start_time": "2023-08-13T10:40:19.001591Z"
    },
    "collapsed": false
   },
   "outputs": [
    {
     "data": {
      "text/plain": [
       "(tensor([2., 3., 4.]), tensor([2., 4., 1.]))"
      ]
     },
     "execution_count": 93,
     "metadata": {},
     "output_type": "execute_result"
    }
   ],
   "source": [
    "inp.mean(-1), inp.std(-1, correction=0)"
   ]
  },
  {
   "cell_type": "code",
   "execution_count": 94,
   "id": "ff2e834257dee5",
   "metadata": {
    "ExecuteTime": {
     "end_time": "2023-08-13T10:40:21.254886Z",
     "start_time": "2023-08-13T10:40:21.254387Z"
    },
    "collapsed": false
   },
   "outputs": [
    {
     "name": "stdout",
     "output_type": "stream",
     "text": [
      "-1.0 1.0\n",
      "-1.0 1.0\n",
      "-1.0 1.0\n"
     ]
    }
   ],
   "source": [
    "print((0. - 2.) / math.sqrt((2. ** 2) + 1e-20), (4. - 2.) / math.sqrt((2. ** 2) + 1e-20))\n",
    "print((-1. - 3.) / math.sqrt((4. ** 2) + 1e-20), (7. - 3.) / math.sqrt((4. ** 2) + 1e-20))\n",
    "print((3. - 4.) / math.sqrt((1. ** 2) + 1e-20), (5. - 4.) / math.sqrt((1. ** 2) + 1e-20))"
   ]
  },
  {
   "cell_type": "code",
   "execution_count": null,
   "id": "cca69c90cb2cc6bc",
   "metadata": {
    "collapsed": false
   },
   "outputs": [],
   "source": []
  }
 ],
 "metadata": {
  "kernelspec": {
   "display_name": "Python 3",
   "language": "python",
   "name": "python3"
  },
  "language_info": {
   "codemirror_mode": {
    "name": "ipython",
    "version": 2
   },
   "file_extension": ".py",
   "mimetype": "text/x-python",
   "name": "python",
   "nbconvert_exporter": "python",
   "pygments_lexer": "ipython2",
   "version": "2.7.6"
  }
 },
 "nbformat": 4,
 "nbformat_minor": 5
}
